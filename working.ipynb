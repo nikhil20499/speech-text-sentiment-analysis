{
  "nbformat": 4,
  "nbformat_minor": 0,
  "metadata": {
    "colab": {
      "name": "working.ipynb",
      "provenance": [],
      "mount_file_id": "1oMTxtk42Sl47DHpb4-T7gvACY-GUo9uK",
      "authorship_tag": "ABX9TyNlCHwQiHS3B3//PjDMwQlq",
      "include_colab_link": true
    },
    "kernelspec": {
      "name": "python3",
      "display_name": "Python 3"
    },
    "language_info": {
      "name": "python"
    }
  },
  "cells": [
    {
      "cell_type": "markdown",
      "metadata": {
        "id": "view-in-github",
        "colab_type": "text"
      },
      "source": [
        "<a href=\"https://colab.research.google.com/github/nikhil20499/speech-text-sentiment-analysis/blob/master/working.ipynb\" target=\"_parent\"><img src=\"https://colab.research.google.com/assets/colab-badge.svg\" alt=\"Open In Colab\"/></a>"
      ]
    },
    {
      "cell_type": "code",
      "metadata": {
        "id": "6XNukS7v5F0A"
      },
      "source": [
        "!pip install SpeechRecognition\n",
        "!pip install pyttsx3\n",
        "!apt install libasound2-dev portaudio19-dev libportaudio2 libportaudiocpp0 ffmpeg\n",
        "!pip install PyAudio\n"
      ],
      "execution_count": null,
      "outputs": []
    },
    {
      "cell_type": "code",
      "metadata": {
        "id": "Hqrdszbh6R3i"
      },
      "source": [
        "pip install librosa soundfile numpy sklearn pyaudio"
      ],
      "execution_count": null,
      "outputs": []
    },
    {
      "cell_type": "code",
      "metadata": {
        "id": "_xGq5emL6gjg"
      },
      "source": [
        "!pip install librosa==0.6.3 numpy soundfile==0.9.0 sklearn pyaudio==0.2.11\n",
        "!ls '/content/drive/MyDrive/DATA/speech-emotion-recognition-ravdess-data.zip'\n",
        "!unzip '/content/drive/MyDrive/DATA/speech-emotion-recognition-ravdess-data.zip'\n",
        "!ls"
      ],
      "execution_count": null,
      "outputs": []
    },
    {
      "cell_type": "code",
      "metadata": {
        "id": "nglEMSQX71x-"
      },
      "source": [
        "!pip install numba==0.48"
      ],
      "execution_count": null,
      "outputs": []
    },
    {
      "cell_type": "code",
      "metadata": {
        "id": "my3_2R7L8lYo"
      },
      "source": [
        "import librosa\n",
        "import soundfile\n",
        "import os, glob, pickle\n",
        "import numpy as np\n",
        "from sklearn.model_selection import train_test_split\n",
        "from sklearn.neural_network import MLPClassifier\n",
        "from sklearn.metrics import accuracy_score, confusion_matrix\n",
        "\n",
        "#function for extracting mfcc, chroma, and mel features from sound file\n",
        "def extract_feature(file_name, mfcc, chroma, mel):\n",
        "  with soundfile.SoundFile(file_name) as sound_file:\n",
        "    X = sound_file.read(dtype=\"float32\")\n",
        "    sample_rate=sound_file.samplerate\n",
        "    if chroma:\n",
        "      stft=np.abs(librosa.stft(X))\n",
        "    result=np.array([])\n",
        "    if mfcc:\n",
        "      mfccs=np.mean(librosa.feature.mfcc(y=X, sr=sample_rate, n_mfcc=40).T, axis=0)\n",
        "      result=np.hstack((result, mfccs))\n",
        "    if chroma:\n",
        "      chroma=np.mean(librosa.feature.chroma_stft(S=stft, sr=sample_rate).T,axis=0)\n",
        "      result=np.hstack((result, chroma))\n",
        "    if mel:\n",
        "      mel=np.mean(librosa.feature.melspectrogram(X, sr=sample_rate).T,axis=0)\n",
        "      result=np.hstack((result, mel))\n",
        "  return result"
      ],
      "execution_count": 49,
      "outputs": []
    },
    {
      "cell_type": "code",
      "metadata": {
        "id": "qij6bzVB_iuG"
      },
      "source": [
        "#Define the motions dictionary"
      ],
      "execution_count": null,
      "outputs": []
    },
    {
      "cell_type": "code",
      "metadata": {
        "id": "-kVfllo1_jIR"
      },
      "source": [
        "emotions = {'01':'neutral','02':'calm','03':'happy','04':'sad','05':'angry','06':'fearful','07':'disgust','08':'surprised'}\n",
        "observed_emotions = ['calm', 'happy', 'fearful', 'disgust']   #Emotions we want to observe"
      ],
      "execution_count": 50,
      "outputs": []
    },
    {
      "cell_type": "code",
      "metadata": {
        "id": "vb70coBbAEEb"
      },
      "source": [
        "#Load the data and extract features for each sound file\n",
        "def load_data(test_size = 0.30):\n",
        "  x, y = [], []\n",
        "  for folder in glob.glob('/content/Actor_*'):\n",
        "    print(folder)\n",
        "    for file in glob.glob(folder + '/*.wav'):\n",
        "      file_name = os.path.basename(file)\n",
        "      emotion = emotions[file_name.split('-')[2]]\n",
        "      if emotion not in observed_emotions:\n",
        "        continue\n",
        "      feature = extract_feature(file, mfcc = True, chroma = True, mel = True)\n",
        "      x.append(feature)\n",
        "      y.append(emotion)\n",
        "  return train_test_split(np.array(x), y, test_size = test_size, random_state = 9)"
      ],
      "execution_count": 51,
      "outputs": []
    },
    {
      "cell_type": "code",
      "metadata": {
        "id": "j2Pna8liAkJN"
      },
      "source": [
        "# split the data\n",
        "x_train,x_test,y_train,y_test=load_data(test_size=0.2)"
      ],
      "execution_count": null,
      "outputs": []
    },
    {
      "cell_type": "code",
      "metadata": {
        "id": "PSfrjE8KBCeD"
      },
      "source": [
        "#Shape of train and test set and Number of features extracted\n",
        "print(np.shape(x_train),np.shape(x_test), np.shape(y_train),np.shape(y_test))\n",
        "print((x_train.shape[0], x_test.shape[0]))\n",
        "print((x_train[0], x_test[0]))\n",
        "print(f'Features extracted: {x_train.shape[1]}')"
      ],
      "execution_count": null,
      "outputs": []
    },
    {
      "cell_type": "code",
      "metadata": {
        "id": "wqD60NWpBUev"
      },
      "source": [
        "#Now apply  Multi Layer Perceptron(MLP) Classifier SO We create an object 'model' for MLP\n",
        "model = MLPClassifier(alpha = 0.01, batch_size = 256, epsilon = 1e-08, hidden_layer_sizes = (300,), learning_rate = 'adaptive', max_iter = 500)\n",
        "model.fit(x_train, y_train) # here we fit the model"
      ],
      "execution_count": null,
      "outputs": []
    },
    {
      "cell_type": "code",
      "metadata": {
        "id": "mAHIcTffBlbk"
      },
      "source": [
        "#Predict for the test set\n",
        "y_pred = model.predict(x_test)\n",
        "y_pred"
      ],
      "execution_count": null,
      "outputs": []
    },
    {
      "cell_type": "code",
      "metadata": {
        "id": "sM---ehEBvtO"
      },
      "source": [
        "#Calculate Accuracy\n",
        "accuracy = accuracy_score(y_test, y_pred)\n",
        "print(\"Accuracy:{:.2f}%\".format(accuracy*100))"
      ],
      "execution_count": null,
      "outputs": []
    },
    {
      "cell_type": "code",
      "metadata": {
        "id": "JTCjHpqNCkyN"
      },
      "source": [
        "#SAVING THE MODEL\n",
        "import pickle\n",
        "# Save the Modle to file in the current working directory\n",
        "#For any new testing data other than the data in dataset\n",
        "Pkl_Filename =\"Emotion_Voice_Detection_Model.pkl\"\n",
        "with open(Pkl_Filename, 'wb') as file:\n",
        "  pickle.dump(model, file)"
      ],
      "execution_count": 58,
      "outputs": []
    },
    {
      "cell_type": "code",
      "metadata": {
        "id": "v5F9kPSkDDNT"
      },
      "source": [
        "# Load the Model back from file\n",
        "with open(Pkl_Filename, 'rb') as file:\n",
        "  Emotion_Voice_Detection_Model = pickle.load(file)\n",
        "Emotion_Voice_Detection_Model"
      ],
      "execution_count": null,
      "outputs": []
    },
    {
      "cell_type": "code",
      "metadata": {
        "id": "whI0z8LIDTUQ"
      },
      "source": [
        "#predicting :\n",
        "y_pred=Emotion_Voice_Detection_Model.predict(x_test)\n",
        "y_pred"
      ],
      "execution_count": null,
      "outputs": []
    },
    {
      "cell_type": "code",
      "metadata": {
        "id": "a6Wr5OZqDbP4"
      },
      "source": [
        "#Store the Prediction probabilities into CSV file\n",
        "import numpy as np\n",
        "import pandas as pd\n",
        "y_pred1 = pd.DataFrame(y_pred, columns=['predictions'])\n",
        "print(y_pred1)\n",
        "y_pred1.to_csv('predictionfinal.csv')"
      ],
      "execution_count": null,
      "outputs": []
    },
    {
      "cell_type": "code",
      "metadata": {
        "id": "4oSobJB9d4qX"
      },
      "source": [
        "#Record sound script step\n",
        "!pip install ffmpeg-python"
      ],
      "execution_count": null,
      "outputs": []
    },
    {
      "cell_type": "code",
      "metadata": {
        "id": "UYqCsaRiebXa"
      },
      "source": [
        "!pip install ffmpeg-python\n",
        "from IPython.display import HTML, Audio\n",
        "from google.colab.output import eval_js\n",
        "from base64 import b64decode\n",
        "import numpy as np\n",
        "from scipy.io.wavfile import read as wav_read\n",
        "import io\n",
        "import ffmpeg\n",
        "\n",
        "AUDIO_HTML = \"\"\"\n",
        "\n",
        "<script>\n",
        "\n",
        "var my_div = document.createElement(\"DIV\");\n",
        "var my_p = document.createElement(\"P\");\n",
        "var my_btn = document.createElement(\"BUTTON\");\n",
        "var t = document.createTextNode(\"Press to start recording\");\n",
        "my_btn.appendChild(t);\n",
        "//my_p.appendChild(my_btn);\n",
        "my_div.appendChild(my_btn);\n",
        "document.body.appendChild(my_div);\n",
        "var base64data = 0;\n",
        "var reader;\n",
        "var recorder, gumStream;\n",
        "var recordButton = my_btn;\n",
        "var handleSuccess = function(stream) {\n",
        "    gumStream = stream;\n",
        "    var options = {\n",
        "        //bitsPerSecond: 8000, //chrome seems to ignore, always 48k\n",
        "        mimeType : 'audio/webm;codecs=opus'\n",
        "        //mimeType : 'audio/webm;codecs=pcm'\n",
        "        };\n",
        "        //recorder = new MediaRecorder(stream, options);\n",
        "        recorder = new MediaRecorder(stream);\n",
        "        recorder.ondataavailable = function(e) {\n",
        "            var url = URL.createObjectURL(e.data);\n",
        "            var preview = document.createElement('audio');\n",
        "            preview.controls = true;\n",
        "            preview.src = url;\n",
        "            document.body.appendChild(preview);\n",
        "            reader = new FileReader();\n",
        "            reader.readAsDataURL(e.data);\n",
        "            reader.onloadend = function() {\n",
        "                base64data = reader.result;\n",
        "                //console.log(\"Inside FileReader:\" + base64data);\n",
        "            }\n",
        "         };\n",
        "         recorder.start();\n",
        "        };\n",
        "    recordButton.innerText = \"Recording... press to stop\";\n",
        "    navigator.mediaDevices.getUserMedia({audio: true}).then(handleSuccess);\n",
        "    function toggleRecording() {\n",
        "        if (recorder && recorder.state == \"recording\"){\n",
        "          recorder.stop();\n",
        "          gumStream.getAudioTracks()[0].stop();\n",
        "          recordButton.innerText = \"Saving the recording... pls wait!\"\n",
        "        }\n",
        "    }\n",
        "        \n",
        "    // https://stackoverflow.com/a/951057\n",
        "    function sleep(ms) {\n",
        "        return new Promise(resolve => setTimeout(resolve, ms));\n",
        "    }\n",
        "    var data = new Promise(resolve=>{\n",
        "        //recordButton.addEventListener(click, toggleRecording);\n",
        "        recordButton.onclick = ()=>{\n",
        "        toggleRecording()\n",
        "        sleep(2000).then(() => {\n",
        "            // wait 2000ms for the data to be available...\n",
        "            // ideally this should use something like await...\n",
        "            //console.log(\"Inside data:\" + base64data)\n",
        "            resolve(base64data.toString())\n",
        "        });\n",
        "        }\n",
        "    });\n",
        "</script>\n",
        "\"\"\"\n",
        "def get_audio():\n",
        "  display(HTML(AUDIO_HTML))\n",
        "  data = eval_js(\"data\")\n",
        "  binary = b64decode(data.split(',')[1])\n",
        "  process = (ffmpeg\n",
        "             .input('pipe:0')\n",
        "             .output('pipe:1', format='wav')\n",
        "             .run_async(pipe_stdin=True, pipe_stdout=True, pipe_stderr=True, quiet=True, overwrite_output=True)\n",
        "             )\n",
        "  output, err = process.communicate(input=binary)\n",
        "  riff_chunk_size = len(output) - 8\n",
        "  # Break up the chunk size into four bytes, held in b.\n",
        "  q = riff_chunk_size\n",
        "  b = []\n",
        "  for i in range(4):\n",
        "    q, r = divmod(q, 256)\n",
        "    b.append(r)\n",
        "    # Replace bytes 4:8 in proc.stdout with the actual size of the RIFF chunk.\n",
        "  riff = output[:4] + bytes(b) + output[8:]\n",
        "  sr, audio = wav_read(io.BytesIO(riff))\n",
        "  return audio, sr"
      ],
      "execution_count": null,
      "outputs": []
    },
    {
      "cell_type": "code",
      "metadata": {
        "colab": {
          "base_uri": "https://localhost:8080/",
          "height": 97
        },
        "id": "mYT933XOfOX6",
        "outputId": "68f8efdb-260d-4d05-9e83-81a1962535a7"
      },
      "source": [
        "audio, sr= get_audio()"
      ],
      "execution_count": 77,
      "outputs": [
        {
          "output_type": "display_data",
          "data": {
            "text/html": [
              "\n",
              "\n",
              "<script>\n",
              "\n",
              "var my_div = document.createElement(\"DIV\");\n",
              "var my_p = document.createElement(\"P\");\n",
              "var my_btn = document.createElement(\"BUTTON\");\n",
              "var t = document.createTextNode(\"Press to start recording\");\n",
              "my_btn.appendChild(t);\n",
              "//my_p.appendChild(my_btn);\n",
              "my_div.appendChild(my_btn);\n",
              "document.body.appendChild(my_div);\n",
              "var base64data = 0;\n",
              "var reader;\n",
              "var recorder, gumStream;\n",
              "var recordButton = my_btn;\n",
              "var handleSuccess = function(stream) {\n",
              "    gumStream = stream;\n",
              "    var options = {\n",
              "        //bitsPerSecond: 8000, //chrome seems to ignore, always 48k\n",
              "        mimeType : 'audio/webm;codecs=opus'\n",
              "        //mimeType : 'audio/webm;codecs=pcm'\n",
              "        };\n",
              "        //recorder = new MediaRecorder(stream, options);\n",
              "        recorder = new MediaRecorder(stream);\n",
              "        recorder.ondataavailable = function(e) {\n",
              "            var url = URL.createObjectURL(e.data);\n",
              "            var preview = document.createElement('audio');\n",
              "            preview.controls = true;\n",
              "            preview.src = url;\n",
              "            document.body.appendChild(preview);\n",
              "            reader = new FileReader();\n",
              "            reader.readAsDataURL(e.data);\n",
              "            reader.onloadend = function() {\n",
              "                base64data = reader.result;\n",
              "                //console.log(\"Inside FileReader:\" + base64data);\n",
              "            }\n",
              "         };\n",
              "         recorder.start();\n",
              "        };\n",
              "    recordButton.innerText = \"Recording... press to stop\";\n",
              "    navigator.mediaDevices.getUserMedia({audio: true}).then(handleSuccess);\n",
              "    function toggleRecording() {\n",
              "        if (recorder && recorder.state == \"recording\"){\n",
              "          recorder.stop();\n",
              "          gumStream.getAudioTracks()[0].stop();\n",
              "          recordButton.innerText = \"Saving the recording... pls wait!\"\n",
              "        }\n",
              "    }\n",
              "        \n",
              "    // https://stackoverflow.com/a/951057\n",
              "    function sleep(ms) {\n",
              "        return new Promise(resolve => setTimeout(resolve, ms));\n",
              "    }\n",
              "    var data = new Promise(resolve=>{\n",
              "        //recordButton.addEventListener(click, toggleRecording);\n",
              "        recordButton.onclick = ()=>{\n",
              "        toggleRecording()\n",
              "        sleep(2000).then(() => {\n",
              "            // wait 2000ms for the data to be available...\n",
              "            // ideally this should use something like await...\n",
              "            //console.log(\"Inside data:\" + base64data)\n",
              "            resolve(base64data.toString())\n",
              "        });\n",
              "        }\n",
              "    });\n",
              "</script>\n"
            ],
            "text/plain": [
              "<IPython.core.display.HTML object>"
            ]
          },
          "metadata": {
            "tags": []
          }
        }
      ]
    },
    {
      "cell_type": "code",
      "metadata": {
        "colab": {
          "base_uri": "https://localhost:8080/"
        },
        "id": "bpqfDOzVn3mE",
        "outputId": "1f3802d2-1c1c-4972-e6c4-387f955ed8ac"
      },
      "source": [
        "!sudo apt-get install libportaudio2\n",
        "!pip install sounddevice"
      ],
      "execution_count": 78,
      "outputs": [
        {
          "output_type": "stream",
          "text": [
            "Reading package lists... Done\n",
            "Building dependency tree       \n",
            "Reading state information... Done\n",
            "libportaudio2 is already the newest version (19.6.0-1).\n",
            "0 upgraded, 0 newly installed, 0 to remove and 39 not upgraded.\n",
            "Requirement already satisfied: sounddevice in /usr/local/lib/python3.7/dist-packages (0.4.1)\n",
            "Requirement already satisfied: CFFI>=1.0 in /usr/local/lib/python3.7/dist-packages (from sounddevice) (1.14.5)\n",
            "Requirement already satisfied: pycparser in /usr/local/lib/python3.7/dist-packages (from CFFI>=1.0->sounddevice) (2.20)\n"
          ],
          "name": "stdout"
        }
      ]
    },
    {
      "cell_type": "code",
      "metadata": {
        "id": "6dYrwkwJnZMt"
      },
      "source": [
        "import sounddevice as sd\n",
        "from scipy.io.wavfile import write\n",
        "write('output.wav', sr,audio)  # Save as WAV file "
      ],
      "execution_count": 79,
      "outputs": []
    },
    {
      "cell_type": "code",
      "metadata": {
        "id": "IftXdhUFqzGe"
      },
      "source": [
        "m=extract_feature('output.wav', mfcc = True, chroma = True, mel = True).reshape(1,-1)"
      ],
      "execution_count": 80,
      "outputs": []
    },
    {
      "cell_type": "code",
      "metadata": {
        "colab": {
          "base_uri": "https://localhost:8080/"
        },
        "id": "pWaB4R_4hbfS",
        "outputId": "4fbbd5e4-6a3e-4270-843f-ead1a13c4ff9"
      },
      "source": [
        "v=Emotion_Voice_Detection_Model.predict(m)\n",
        "print(v)"
      ],
      "execution_count": 81,
      "outputs": [
        {
          "output_type": "stream",
          "text": [
            "['happy']\n"
          ],
          "name": "stdout"
        }
      ]
    }
  ]
}